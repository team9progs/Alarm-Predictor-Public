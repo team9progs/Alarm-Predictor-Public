{
 "cells": [
  {
   "cell_type": "code",
   "execution_count": 1,
   "id": "3f8b8df3",
   "metadata": {
    "ExecuteTime": {
     "end_time": "2023-04-12T17:44:45.278717Z",
     "start_time": "2023-04-12T17:44:44.747950Z"
    }
   },
   "outputs": [],
   "source": [
    "import csv\n",
    "import requests\n",
    "import pandas as pd\n",
    "import numpy as np\n",
    "import csv\n",
    "import codecs\n",
    "import urllib.request\n",
    "import urllib.error\n",
    "import sys\n",
    "import glob\n",
    "import urllib.parse\n",
    "import urllib.request\n",
    "import json\n",
    "import time\n",
    "import datetime\n",
    "from datetime import datetime, timedelta"
   ]
  },
  {
   "cell_type": "code",
   "execution_count": 3,
   "id": "df108b44",
   "metadata": {
    "ExecuteTime": {
     "end_time": "2023-04-12T17:44:45.289649Z",
     "start_time": "2023-04-12T17:44:45.264000Z"
    }
   },
   "outputs": [],
   "source": [
    "regions = pd.read_csv('regions.csv')"
   ]
  },
  {
   "cell_type": "code",
   "execution_count": 5,
   "id": "4349f0af",
   "metadata": {
    "ExecuteTime": {
     "end_time": "2023-04-12T17:44:45.633948Z",
     "start_time": "2023-04-12T17:44:45.552552Z"
    }
   },
   "outputs": [],
   "source": [
    "alarms = pd.read_csv('alarms.csv', sep = ';')"
   ]
  },
  {
   "cell_type": "code",
   "execution_count": 6,
   "id": "c15b92ba",
   "metadata": {
    "ExecuteTime": {
     "end_time": "2023-04-12T17:44:47.985468Z",
     "start_time": "2023-04-12T17:44:46.011792Z"
    }
   },
   "outputs": [],
   "source": [
    "weather = pd.read_csv('all_weather_by_hour.csv')\n"
   ]
  },
  {
   "cell_type": "code",
   "execution_count": null,
   "id": "84956b8e",
   "metadata": {
    "ExecuteTime": {
     "end_time": "2023-04-12T17:44:47.992417Z",
     "start_time": "2023-04-12T17:44:47.577965Z"
    }
   },
   "outputs": [],
   "source": [
    "def isNaN(num):\n",
    "    return num != num"
   ]
  },
  {
   "cell_type": "code",
   "execution_count": null,
   "id": "56bd20ce",
   "metadata": {
    "ExecuteTime": {
     "end_time": "2023-04-12T17:44:47.992641Z",
     "start_time": "2023-04-12T17:44:47.580818Z"
    }
   },
   "outputs": [],
   "source": [
    "df_isw = pd.read_csv(f\"isw_data.csv\", sep=\",\")\n",
    "df_isw.head(5)"
   ]
  },
  {
   "cell_type": "code",
   "execution_count": null,
   "id": "f4637775",
   "metadata": {
    "ExecuteTime": {
     "end_time": "2023-04-12T17:44:48.061670Z",
     "start_time": "2023-04-12T17:44:47.581791Z"
    }
   },
   "outputs": [],
   "source": [
    "df_weather = pd.read_csv(f\"all_weather_by_hour_v2.csv\")\n",
    "df_weather[\"day_datetime\"] = pd.to_datetime(df_weather[\"day_datetime\"])"
   ]
  },
  {
   "cell_type": "code",
   "execution_count": null,
   "id": "ad7dd419",
   "metadata": {
    "ExecuteTime": {
     "end_time": "2023-04-12T17:44:48.062462Z",
     "start_time": "2023-04-12T17:44:47.865504Z"
    }
   },
   "outputs": [],
   "source": [
    "df_weather.shape\n"
   ]
  },
  {
   "cell_type": "code",
   "execution_count": null,
   "id": "733e9b56",
   "metadata": {
    "ExecuteTime": {
     "end_time": "2023-04-12T17:44:48.347207Z",
     "start_time": "2023-04-12T17:44:48.253772Z"
    }
   },
   "outputs": [],
   "source": [
    "df_weather.head(15)"
   ]
  },
  {
   "cell_type": "code",
   "execution_count": null,
   "id": "da87f1eb",
   "metadata": {},
   "outputs": [],
   "source": [
    "weather_exclude = [\n",
    "\"day_feelslikemax\",\n",
    "\"day_feelslikemin\",\n",
    "\"day_sunriseEpoch\",\n",
    "\"day_sunsetEpoch\",\n",
    "\"day_description\",\n",
    "\"city_latitude\",\n",
    "\"city_longitude\",\n",
    "\"city_address\",\n",
    "\"city_timezone\",\n",
    "\"city_tzoffset\",\n",
    "\"day_feelslike\",\n",
    "\"day_precipprob\",\n",
    "\"day_snow\",\n",
    "\"day_snowdepth\",\n",
    "\"day_windgust\",\n",
    "\"day_windspeed\",\n",
    "\"day_winddir\",\n",
    "\"day_pressure\",\n",
    "\"day_cloudcover\",\n",
    "\"day_visibility\",\n",
    "\"day_severerisk\",\n",
    "\"day_conditions\",\n",
    "\"day_icon\",\n",
    "\"day_source\",\n",
    "\"day_preciptype\",\n",
    "\"day_stations\",\n",
    "\"hour_icon\",\n",
    "\"hour_source\",\n",
    "\"hour_stations\",\n",
    "\"hour_feelslike\"\n",
    "]"
   ]
  },
  {
   "cell_type": "code",
   "execution_count": null,
   "id": "ae0bb9ff",
   "metadata": {},
   "outputs": [],
   "source": [
    "df_weather_v2 = df_weather.drop(weather_exclude, axis=1)"
   ]
  },
  {
   "cell_type": "code",
   "execution_count": null,
   "id": "80815e71",
   "metadata": {
    "ExecuteTime": {
     "end_time": "2023-04-12T14:15:08.566626Z",
     "start_time": "2023-04-12T14:15:08.411451Z"
    }
   },
   "outputs": [],
   "source": [
    "df_weather_v2.head(5)"
   ]
  },
  {
   "cell_type": "code",
   "execution_count": null,
   "id": "8956c07b",
   "metadata": {},
   "outputs": [],
   "source": [
    "df_weather_v2[\"city\"] = df_weather_v2[\"city_resolvedAddress\"].apply(lambda x: x.split(\",\")[0])\n",
    "df_weather_v2[\"city\"] = df_weather_v2[\"city\"].replace('Хмельницька область', \"Хмельницький\")"
   ]
  },
  {
   "cell_type": "code",
   "execution_count": null,
   "id": "d0ae8a94",
   "metadata": {},
   "outputs": [],
   "source": [
    "df_weather_v2.shape"
   ]
  },
  {
   "cell_type": "code",
   "execution_count": null,
   "id": "2a7b735a",
   "metadata": {},
   "outputs": [],
   "source": [
    "df_regions = pd.read_csv(f\"regions.csv\")\n",
    "df_weather_reg = pd.merge(df_weather_v2, df_regions, left_on=\"city\",right_on=\"center_city_ua\")"
   ]
  },
  {
   "cell_type": "code",
   "execution_count": null,
   "id": "363bbd3c",
   "metadata": {
    "ExecuteTime": {
     "end_time": "2023-04-12T14:15:09.472421Z",
     "start_time": "2023-04-12T14:15:09.229630Z"
    }
   },
   "outputs": [],
   "source": [
    "df_events = pd.read_csv(f\"alarms.csv\", sep=\";\")\n",
    "df_events_v2 = df_events.drop([\"id\",\"region_id\"],axis=1)\n",
    "df_events_v2.head(5)"
   ]
  },
  {
   "cell_type": "code",
   "execution_count": null,
   "id": "a1f4dc35",
   "metadata": {
    "ExecuteTime": {
     "end_time": "2023-04-12T17:44:51.746557Z",
     "start_time": "2023-04-12T17:44:50.144463Z"
    }
   },
   "outputs": [],
   "source": [
    "df_events_v2[\"start_time\"] = pd.to_datetime(df_events_v2[\"start\"])\n",
    "df_events_v2[\"end_time\"] = pd.to_datetime(df_events_v2[\"end\"])\n",
    "\n",
    "df_events_v2[\"start_hour\"] = df_events_v2['start_time'].dt.floor('H')\n",
    "df_events_v2[\"end_hour\"] = df_events_v2['end_time'].dt.ceil('H')\n",
    "\n",
    "df_events_v2[\"start_hour\"] = df_events_v2.apply(lambda x: x[\"start_hour\"] if not isNaN(x[\"start_hour\"]) else x[\"event_hour\"] , axis=1)\n",
    "df_events_v2[\"end_hour\"] = df_events_v2.apply(lambda x: x[\"end_hour\"] if not isNaN(x[\"end_hour\"]) else x[\"event_hour\"] , axis=1)\n",
    "\n",
    "df_events_v2[\"day_date\"] = df_events_v2[\"start_time\"].dt.date\n",
    "\n",
    "df_events_v2[\"start_hour_datetimeEpoch\"] = df_events_v2['start_hour'].apply(lambda x: int(x.strftime('%s'))  if not isNaN(x) else None)\n",
    "df_events_v2[\"end_hour_datetimeEpoch\"] = df_events_v2['end_hour'].apply(lambda x: int(x.strftime('%s'))  if not isNaN(x) else None)\n",
    "\n",
    "df_events_v2.head(10)"
   ]
  },
  {
   "cell_type": "code",
   "execution_count": null,
   "id": "9cacae5c",
   "metadata": {},
   "outputs": [],
   "source": [
    "events_dict = df_events_v2.to_dict('records')\n",
    "events_by_hour = []"
   ]
  },
  {
   "cell_type": "code",
   "execution_count": null,
   "id": "a19f4b9b",
   "metadata": {},
   "outputs": [],
   "source": [
    "for event in events_dict:\n",
    "    for d in pd.date_range(start=event[\"start_hour\"], end=event[\"end_hour\"], freq='1H'):\n",
    "        et = event.copy()\n",
    "        et[\"hour_level_event_time\"] = d\n",
    "        events_by_hour.append(et)"
   ]
  },
  {
   "cell_type": "code",
   "execution_count": null,
   "id": "27026ec3",
   "metadata": {},
   "outputs": [],
   "source": [
    "df_events_v3 = pd.DataFrame.from_dict(events_by_hour)\n",
    "\n",
    "df_events_v3[\"hour_level_event_datetimeEpocdh\"] = df_events_v3[\"hour_level_event_time\"].apply(lambda x: int(x.strftime('%s'))  if not isNaN(x) else None)\n",
    "\n",
    "df_events_v3.shape"
   ]
  },
  {
   "cell_type": "code",
   "execution_count": null,
   "id": "be85a8de",
   "metadata": {},
   "outputs": [],
   "source": [
    "df_events_v3.head(15)"
   ]
  },
  {
   "cell_type": "code",
   "execution_count": null,
   "id": "f0147594",
   "metadata": {},
   "outputs": [],
   "source": [
    "df_weather_v4 = df_weather_reg.merge(df_events_v4, \n",
    "                                     how=\"left\", \n",
    "                                     left_on=[\"region_alt\",\"hour_datetimeEpoch\"],\n",
    "                                     right_on=[\"event_region_title\",\"event_hour_level_event_datetimeEpocdh\"])\n",
    "\n",
    "df_weather_v4.head(10)"
   ]
  },
  {
   "cell_type": "code",
   "execution_count": null,
   "id": "b6cce4bb",
   "metadata": {},
   "outputs": [],
   "source": [
    "df_weather_v4.to_csv(f\"all_data_preprocessed.csv\", sep=\";\", index=False)"
   ]
  },
  {
   "cell_type": "code",
   "execution_count": null,
   "id": "6d9d926e",
   "metadata": {},
   "outputs": [],
   "source": [
    "df = pd.read_csv(\"all_data_preprocessed.csv\", sep=';')\n",
    "df.head()\n",
    "df['day_datetime'] = pd.to_datetime(df_isw_text[\"day_datetime\"])\n",
    "df = df.drop(['Unnamed: 0'], axis=1)\n",
    "df.dtypes\n",
    "df.to_csv(\"test.csv\", sep=';')\n",
    "df['alarm_info'] = np.where(isNaN(df['event_start']),0,1)\n",
    "df.head()\n",
    "df.to_csv(\"test.csv\", sep=';', index=False)"
   ]
  },
  {
   "cell_type": "code",
   "execution_count": null,
   "id": "11a72330",
   "metadata": {},
   "outputs": [],
   "source": [
    "df1 = pd.read_csv('vectorized_texts.csv', sep=',')\n",
    "df_isw = pd.read_csv('isw_data.csv', sep=',')\n",
    "\n",
    "with open('cols_vect.txt', 'r') as f:\n",
    "    columns = [col.strip() for col in f.read().strip().split(',')]\n",
    "\n",
    "for col in df1.columns:\n",
    "    if col not in columns:\n",
    "        df1.drop(col, axis=1, inplace=True)\n",
    "\n",
    "df1['day_datetime'] = pd.to_datetime(df_isw['Date'])\n",
    "df1['day_datetime'] = df1['day_datetime'].apply(lambda x: x.strftime('%Y-%m-%d'))\n",
    "df2 = pd.read_csv('test.csv', sep=';', low_memory=False)\n",
    "df2['alarm_info'] = df2['alarm']\n",
    "\n",
    "# merge the two datasets on the common column\n",
    "merged_df = pd.merge(df2, df1, on='day_datetime', how='inner')\n",
    "merged_df.drop('Unnamed: 0', axis=1, inplace=True)\n",
    "\n",
    "# delete all NaN columns\n",
    "nan_cols = merged_df.isna().any()\n",
    "cols_with_nan = merged_df.columns[nan_cols]\n",
    "merged_df = merged_df.drop(columns=cols_with_nan)\n",
    "\n",
    "# delete all object columns\n",
    "merged_df = merged_df.select_dtypes(exclude=['object'])\n",
    "\n",
    "merged_df = merged_df.drop(\n",
    "    ['day_datetimeEpoch', 'day_precipcover', 'day_solarradiation', 'day_solarenergy', 'hour_datetimeEpoch',\n",
    "     'hour_precip', 'hour_precipprob', 'hour_snowdepth', 'hour_windspeed', 'hour_visibility', 'hour_cloudcover',\n",
    "     'hour_severerisk', 'alarm_x', 'alarm_y'], axis=1)\n",
    "\n",
    "# write the merged dataset to a new CSV file\n",
    "merged_df.to_csv('merged_dataset.csv', index=False)\n",
    "print(merged_df.dtypes)\n"
   ]
  },
  {
   "cell_type": "code",
   "execution_count": null,
   "id": "ee924093",
   "metadata": {},
   "outputs": [],
   "source": []
  }
 ],
 "metadata": {
  "kernelspec": {
   "display_name": "Python 3 (ipykernel)",
   "language": "python",
   "name": "python3"
  },
  "language_info": {
   "codemirror_mode": {
    "name": "ipython",
    "version": 3
   },
   "file_extension": ".py",
   "mimetype": "text/x-python",
   "name": "python",
   "nbconvert_exporter": "python",
   "pygments_lexer": "ipython3",
   "version": "3.8.13"
  }
 },
 "nbformat": 4,
 "nbformat_minor": 5
}
