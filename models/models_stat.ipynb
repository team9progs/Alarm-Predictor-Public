{
 "cells": [
  {
   "cell_type": "code",
   "execution_count": 9,
   "id": "1ba35367",
   "metadata": {
    "scrolled": false
   },
   "outputs": [
    {
     "name": "stderr",
     "output_type": "stream",
     "text": [
      "C:\\Users\\Admin\\AppData\\Local\\Temp\\ipykernel_13752\\1360990435.py:2: DtypeWarning: Columns (25,43,44,46,47,48,50,51,52,53,54,57) have mixed types. Specify dtype option on import or set low_memory=False.\n",
      "  START_DATA = pd.read_csv('data/merged_dataset.csv', nrows = 10000)\n"
     ]
    }
   ],
   "source": [
    "import pandas as pd\n",
    "START_DATA = pd.read_csv('data/merged_dataset.csv', nrows = 10000)\n",
    "nan_cols = START_DATA.isna().any()\n",
    "\n",
    "cols_with_nan = START_DATA.columns[nan_cols]\n",
    "\n",
    "df = START_DATA.copy()\n",
    "\n",
    "df = df.drop(columns=cols_with_nan)\n",
    "\n",
    "df = df.select_dtypes(exclude=['object'])\n",
    "\n",
    "float64_cols = list(df.select_dtypes(include=['float64']))\n",
    "int64_cols = list(df.select_dtypes(include=['int64']))\n",
    "\n",
    "\n",
    "cols_to_read = df.columns"
   ]
  },
  {
   "cell_type": "code",
   "execution_count": 10,
   "id": "8c6dc266",
   "metadata": {},
   "outputs": [],
   "source": [
    "cols_to_read_final = list(filter(lambda x: len(x) < 14, cols_to_read))"
   ]
  },
  {
   "cell_type": "code",
   "execution_count": 11,
   "id": "40cadc52",
   "metadata": {},
   "outputs": [
    {
     "data": {
      "text/plain": [
       "12406"
      ]
     },
     "execution_count": 11,
     "metadata": {},
     "output_type": "execute_result"
    }
   ],
   "source": [
    "cols_to_read_final.remove('alarm_info')\n",
    "len(cols_to_read_final)"
   ]
  },
  {
   "cell_type": "code",
   "execution_count": 7,
   "id": "bd052a91",
   "metadata": {},
   "outputs": [],
   "source": [
    "float64_cols_dict = {}\n",
    "for x in float64_cols:\n",
    "    float64_cols_dict[x] = 'float32'\n",
    "float64_cols_dict\n",
    "int64_cols_dict = {}\n",
    "for x in int64_cols:\n",
    "    int64_cols_dict[x] = 'uint8'\n",
    "dtype_to_read = {**float64_cols_dict, **int64_cols_dict}"
   ]
  },
  {
   "cell_type": "code",
   "execution_count": 12,
   "id": "e226f481",
   "metadata": {},
   "outputs": [],
   "source": [
    "X_test = pd.read_csv('data/X_test.csv', usecols=cols_to_read_final, dtype=dtype_to_read)\n",
    "y_test = pd.read_csv('data/y_test.csv', usecols=['alarm_info'], dtype=dtype_to_read)"
   ]
  },
  {
   "cell_type": "code",
   "execution_count": 13,
   "id": "a0aaa848",
   "metadata": {},
   "outputs": [
    {
     "name": "stdout",
     "output_type": "stream",
     "text": [
      "<class 'pandas.core.frame.DataFrame'>\n",
      "RangeIndex: 37774 entries, 0 to 37773\n",
      "Columns: 12406 entries, 01 to zyuganov\n",
      "dtypes: float32(15), uint8(12391)\n",
      "memory usage: 448.5 MB\n"
     ]
    }
   ],
   "source": [
    "X_test.info()"
   ]
  },
  {
   "cell_type": "code",
   "execution_count": 14,
   "id": "8f7e8b7a",
   "metadata": {},
   "outputs": [],
   "source": [
    "import joblib\n",
    "from sklearn.metrics import confusion_matrix, classification_report"
   ]
  },
  {
   "cell_type": "code",
   "execution_count": 15,
   "id": "31733a81",
   "metadata": {},
   "outputs": [
    {
     "name": "stdout",
     "output_type": "stream",
     "text": [
      "(37774, 12406)\n",
      "(37774, 1)\n"
     ]
    }
   ],
   "source": [
    "print(X_test.shape)\n",
    "print(y_test.shape)"
   ]
  },
  {
   "cell_type": "markdown",
   "id": "9e3f0ef1",
   "metadata": {},
   "source": [
    "**Logistic Regression**"
   ]
  },
  {
   "cell_type": "code",
   "execution_count": 16,
   "id": "d5bb24f2",
   "metadata": {},
   "outputs": [
    {
     "name": "stdout",
     "output_type": "stream",
     "text": [
      "[[26807  1374]\n",
      " [ 7669  1924]]\n",
      "              precision    recall  f1-score   support\n",
      "\n",
      "           0       0.78      0.95      0.86     28181\n",
      "           1       0.58      0.20      0.30      9593\n",
      "\n",
      "    accuracy                           0.76     37774\n",
      "   macro avg       0.68      0.58      0.58     37774\n",
      "weighted avg       0.73      0.76      0.71     37774\n",
      "\n",
      "0.7606025308413195\n"
     ]
    }
   ],
   "source": [
    "logreg = joblib.load('trained_models/LogisticRegression')\n",
    "y_pred = logreg.predict(X_test)\n",
    "\n",
    "print(confusion_matrix(y_test, y_pred))\n",
    "print(classification_report(y_test, y_pred))\n",
    "print(logreg.score(X_test, y_test))"
   ]
  },
  {
   "cell_type": "markdown",
   "id": "80598f32",
   "metadata": {},
   "source": [
    "**Random Forest Classifier with max depth 5**"
   ]
  },
  {
   "cell_type": "code",
   "execution_count": 40,
   "id": "8ac19e4b",
   "metadata": {},
   "outputs": [
    {
     "name": "stdout",
     "output_type": "stream",
     "text": [
      "[[27641   540]\n",
      " [ 8536  1057]]\n",
      "              precision    recall  f1-score   support\n",
      "\n",
      "           0       0.76      0.98      0.86     28181\n",
      "           1       0.66      0.11      0.19      9593\n",
      "\n",
      "    accuracy                           0.76     37774\n",
      "   macro avg       0.71      0.55      0.52     37774\n",
      "weighted avg       0.74      0.76      0.69     37774\n",
      "\n",
      "0.7597289140678773\n"
     ]
    }
   ],
   "source": [
    "RFC5 = joblib.load('trained_models/RandomForestClassifier5')\n",
    "y_pred = RFC5.predict(X_test)\n",
    "\n",
    "print(confusion_matrix(y_test, y_pred))\n",
    "print(classification_report(y_test, y_pred))\n",
    "print(RFC5.score(X_test, y_test))"
   ]
  },
  {
   "cell_type": "markdown",
   "id": "bf88396d",
   "metadata": {},
   "source": [
    "**Random Forest Classifier with max depth 20**"
   ]
  },
  {
   "cell_type": "code",
   "execution_count": 41,
   "id": "79ba816c",
   "metadata": {
    "scrolled": false
   },
   "outputs": [
    {
     "name": "stdout",
     "output_type": "stream",
     "text": [
      "[[27330   851]\n",
      " [ 5088  4505]]\n",
      "              precision    recall  f1-score   support\n",
      "\n",
      "           0       0.84      0.97      0.90     28181\n",
      "           1       0.84      0.47      0.60      9593\n",
      "\n",
      "    accuracy                           0.84     37774\n",
      "   macro avg       0.84      0.72      0.75     37774\n",
      "weighted avg       0.84      0.84      0.83     37774\n",
      "\n",
      "0.8427754540159899\n"
     ]
    }
   ],
   "source": [
    "RFC20 = joblib.load('trained_models/RandomForestClassifier20')\n",
    "\n",
    "y_pred = RFC20.predict(X_test)\n",
    "\n",
    "print(confusion_matrix(y_test, y_pred))\n",
    "print(classification_report(y_test, y_pred))\n",
    "print(RFC20.score(X_test, y_test))"
   ]
  },
  {
   "cell_type": "markdown",
   "id": "4943b1a2",
   "metadata": {},
   "source": [
    "**Random Forest Classifier with max depth 50**"
   ]
  },
  {
   "cell_type": "code",
   "execution_count": 42,
   "id": "d8b3269c",
   "metadata": {},
   "outputs": [
    {
     "name": "stdout",
     "output_type": "stream",
     "text": [
      "[[26430  1751]\n",
      " [ 2927  6666]]\n",
      "              precision    recall  f1-score   support\n",
      "\n",
      "           0       0.90      0.94      0.92     28181\n",
      "           1       0.79      0.69      0.74      9593\n",
      "\n",
      "    accuracy                           0.88     37774\n",
      "   macro avg       0.85      0.82      0.83     37774\n",
      "weighted avg       0.87      0.88      0.87     37774\n",
      "\n",
      "0.8761582040556997\n"
     ]
    }
   ],
   "source": [
    "RFC50 = joblib.load('trained_models/RandomForestClassifier50')\n",
    "\n",
    "y_pred = RFC50.predict(X_test)\n",
    "\n",
    "print(confusion_matrix(y_test, y_pred))\n",
    "print(classification_report(y_test, y_pred))\n",
    "print(RFC50.score(X_test, y_test))"
   ]
  },
  {
   "cell_type": "markdown",
   "id": "e73562a5",
   "metadata": {},
   "source": [
    "**Random Forest Classifier with max depth 100**"
   ]
  },
  {
   "cell_type": "code",
   "execution_count": 43,
   "id": "7b87f604",
   "metadata": {},
   "outputs": [
    {
     "name": "stdout",
     "output_type": "stream",
     "text": [
      "[[26445  1736]\n",
      " [ 2932  6661]]\n",
      "              precision    recall  f1-score   support\n",
      "\n",
      "           0       0.90      0.94      0.92     28181\n",
      "           1       0.79      0.69      0.74      9593\n",
      "\n",
      "    accuracy                           0.88     37774\n",
      "   macro avg       0.85      0.82      0.83     37774\n",
      "weighted avg       0.87      0.88      0.87     37774\n",
      "\n",
      "0.8764229364112882\n"
     ]
    }
   ],
   "source": [
    "RFC100 = joblib.load('trained_models/RandomForestClassifier100')\n",
    "\n",
    "y_pred = RFC100.predict(X_test)\n",
    "\n",
    "print(confusion_matrix(y_test, y_pred))\n",
    "print(classification_report(y_test, y_pred))\n",
    "print(RFC100.score(X_test, y_test))"
   ]
  },
  {
   "cell_type": "markdown",
   "id": "f3e1b1e0",
   "metadata": {},
   "source": [
    "**k-NN with k = 5**"
   ]
  },
  {
   "cell_type": "code",
   "execution_count": 14,
   "id": "50b58749",
   "metadata": {
    "scrolled": false
   },
   "outputs": [
    {
     "name": "stdout",
     "output_type": "stream",
     "text": [
      "[[25249  2932]\n",
      " [ 3876  5717]]\n",
      "              precision    recall  f1-score   support\n",
      "\n",
      "           0       0.87      0.90      0.88     28181\n",
      "           1       0.66      0.60      0.63      9593\n",
      "\n",
      "    accuracy                           0.82     37774\n",
      "   macro avg       0.76      0.75      0.75     37774\n",
      "weighted avg       0.81      0.82      0.82     37774\n",
      "\n",
      "0.8197702123153492\n"
     ]
    }
   ],
   "source": [
    "knn = joblib.load('trained_models/5NearestNeighbours')\n",
    "\n",
    "y_pred = knn.predict(X_test)\n",
    "\n",
    "print(confusion_matrix(y_test, y_pred))\n",
    "print(classification_report(y_test, y_pred))\n",
    "print(knn.score(X_test, y_test))"
   ]
  },
  {
   "cell_type": "markdown",
   "id": "521dcd7e",
   "metadata": {},
   "source": [
    "**k-NN with k = 20**"
   ]
  },
  {
   "cell_type": "code",
   "execution_count": 20,
   "id": "205b1ff8",
   "metadata": {},
   "outputs": [
    {
     "name": "stdout",
     "output_type": "stream",
     "text": [
      "[[26125  2056]\n",
      " [ 5456  4137]]\n",
      "              precision    recall  f1-score   support\n",
      "\n",
      "           0       0.83      0.93      0.87     28181\n",
      "           1       0.67      0.43      0.52      9593\n",
      "\n",
      "    accuracy                           0.80     37774\n",
      "   macro avg       0.75      0.68      0.70     37774\n",
      "weighted avg       0.79      0.80      0.79     37774\n",
      "\n",
      "0.8011330544819187\n"
     ]
    }
   ],
   "source": [
    "knn = joblib.load('trained_models/20NearestNeighbours')\n",
    "\n",
    "y_pred = knn.predict(X_test)\n",
    "\n",
    "print(confusion_matrix(y_test, y_pred))\n",
    "print(classification_report(y_test, y_pred))\n",
    "print(knn.score(X_test, y_test))"
   ]
  },
  {
   "cell_type": "markdown",
   "id": "c30b79ea",
   "metadata": {},
   "source": [
    "**k-NN with k = 50**"
   ]
  },
  {
   "cell_type": "code",
   "execution_count": 21,
   "id": "05d9610a",
   "metadata": {
    "scrolled": false
   },
   "outputs": [
    {
     "name": "stdout",
     "output_type": "stream",
     "text": [
      "[[26296  1885]\n",
      " [ 6260  3333]]\n",
      "              precision    recall  f1-score   support\n",
      "\n",
      "           0       0.81      0.93      0.87     28181\n",
      "           1       0.64      0.35      0.45      9593\n",
      "\n",
      "    accuracy                           0.78     37774\n",
      "   macro avg       0.72      0.64      0.66     37774\n",
      "weighted avg       0.76      0.78      0.76     37774\n",
      "\n",
      "0.7843754963731667\n"
     ]
    }
   ],
   "source": [
    "knn = joblib.load('trained_models/50NearestNeighbours')\n",
    "\n",
    "y_pred = knn.predict(X_test)\n",
    "\n",
    "print(confusion_matrix(y_test, y_pred))\n",
    "print(classification_report(y_test, y_pred))\n",
    "print(knn.score(X_test, y_test))"
   ]
  },
  {
   "cell_type": "markdown",
   "id": "bedf4dc4",
   "metadata": {},
   "source": [
    "**Stochastic Gradient Descent**"
   ]
  },
  {
   "cell_type": "code",
   "execution_count": 19,
   "id": "704e3433",
   "metadata": {},
   "outputs": [
    {
     "name": "stderr",
     "output_type": "stream",
     "text": [
      "C:\\Users\\Admin\\anaconda3\\lib\\site-packages\\sklearn\\base.py:318: UserWarning: Trying to unpickle estimator SGDClassifier from version 1.0.2 when using version 1.2.2. This might lead to breaking code or invalid results. Use at your own risk. For more info please refer to:\n",
      "https://scikit-learn.org/stable/model_persistence.html#security-maintainability-limitations\n",
      "  warnings.warn(\n"
     ]
    },
    {
     "name": "stdout",
     "output_type": "stream",
     "text": [
      "[[11562 16619]\n",
      " [ 1330  8263]]\n",
      "              precision    recall  f1-score   support\n",
      "\n",
      "           0       0.90      0.41      0.56     28181\n",
      "           1       0.33      0.86      0.48      9593\n",
      "\n",
      "    accuracy                           0.52     37774\n",
      "   macro avg       0.61      0.64      0.52     37774\n",
      "weighted avg       0.75      0.52      0.54     37774\n",
      "\n",
      "0.5248318949542014\n"
     ]
    }
   ],
   "source": [
    "sgd = joblib.load('trained_models/StochasticGradientDescent')\n",
    "\n",
    "y_pred = sgd.predict(X_test)\n",
    "\n",
    "print(confusion_matrix(y_test, y_pred))\n",
    "print(classification_report(y_test, y_pred))\n",
    "print(sgd.score(X_test, y_test))"
   ]
  }
 ],
 "metadata": {
  "kernelspec": {
   "display_name": "Python 3 (ipykernel)",
   "language": "python",
   "name": "python3"
  },
  "language_info": {
   "codemirror_mode": {
    "name": "ipython",
    "version": 3
   },
   "file_extension": ".py",
   "mimetype": "text/x-python",
   "name": "python",
   "nbconvert_exporter": "python",
   "pygments_lexer": "ipython3",
   "version": "3.9.13"
  }
 },
 "nbformat": 4,
 "nbformat_minor": 5
}
