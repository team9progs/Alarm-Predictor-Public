{
 "cells": [
  {
   "cell_type": "code",
   "execution_count": 8,
   "id": "1ba35367",
   "metadata": {
    "scrolled": false
   },
   "outputs": [],
   "source": [
    "import pandas as pd\n",
    "START_DATA = pd.read_csv('data/merged_dataset.csv', nrows = 1000)\n",
    "nan_cols = START_DATA.isna().any()\n",
    "\n",
    "cols_with_nan = START_DATA.columns[nan_cols]\n",
    "\n",
    "df = START_DATA.copy()\n",
    "\n",
    "df = df.drop(columns=cols_with_nan)\n",
    "\n",
    "df = df.select_dtypes(exclude=['object'])\n",
    "\n",
    "float64_cols = list(df.select_dtypes(include=['float64']))\n",
    "int64_cols = list(df.select_dtypes(include=['int64']))\n",
    "\n",
    "\n",
    "cols_to_read = df.columns"
   ]
  },
  {
   "cell_type": "code",
   "execution_count": null,
   "id": "8c6dc266",
   "metadata": {},
   "outputs": [],
   "source": [
    "cols_to_read_final = list(filter(lambda x: len(x) < 14, cols_to_read))"
   ]
  },
  {
   "cell_type": "code",
   "execution_count": 5,
   "id": "40cadc52",
   "metadata": {},
   "outputs": [
    {
     "data": {
      "text/plain": [
       "12407"
      ]
     },
     "execution_count": 5,
     "metadata": {},
     "output_type": "execute_result"
    }
   ],
   "source": [
    "len(cols_to_read_final)"
   ]
  },
  {
   "cell_type": "code",
   "execution_count": 7,
   "id": "bd052a91",
   "metadata": {},
   "outputs": [],
   "source": [
    "float64_cols_dict = {}\n",
    "for x in float64_cols:\n",
    "    float64_cols_dict[x] = 'float32'\n",
    "float64_cols_dict\n",
    "int64_cols_dict = {}\n",
    "for x in int64_cols:\n",
    "    int64_cols_dict[x] = 'uint8'\n",
    "dtype_to_read = {**float64_cols_dict, **int64_cols_dict}"
   ]
  },
  {
   "cell_type": "code",
   "execution_count": 8,
   "id": "e226f481",
   "metadata": {},
   "outputs": [],
   "source": [
    "FULL_DATA = pd.read_csv('data/merged_dataset.csv', usecols=cols_to_read_final, dtype=dtype_to_read, nrows=100)"
   ]
  },
  {
   "cell_type": "code",
   "execution_count": 9,
   "id": "a0aaa848",
   "metadata": {},
   "outputs": [
    {
     "name": "stdout",
     "output_type": "stream",
     "text": [
      "<class 'pandas.core.frame.DataFrame'>\n",
      "RangeIndex: 100 entries, 0 to 99\n",
      "Columns: 12407 entries, day_tempmax to zyuganov\n",
      "dtypes: float32(15), uint8(12392)\n",
      "memory usage: 1.2 MB\n"
     ]
    }
   ],
   "source": [
    "FULL_DATA.info()"
   ]
  },
  {
   "cell_type": "code",
   "execution_count": 10,
   "id": "a09fc6ca",
   "metadata": {},
   "outputs": [
    {
     "data": {
      "text/html": [
       "<div>\n",
       "<style scoped>\n",
       "    .dataframe tbody tr th:only-of-type {\n",
       "        vertical-align: middle;\n",
       "    }\n",
       "\n",
       "    .dataframe tbody tr th {\n",
       "        vertical-align: top;\n",
       "    }\n",
       "\n",
       "    .dataframe thead th {\n",
       "        text-align: right;\n",
       "    }\n",
       "</style>\n",
       "<table border=\"1\" class=\"dataframe\">\n",
       "  <thead>\n",
       "    <tr style=\"text-align: right;\">\n",
       "      <th></th>\n",
       "      <th>day_tempmax</th>\n",
       "      <th>day_tempmin</th>\n",
       "      <th>day_temp</th>\n",
       "      <th>day_dew</th>\n",
       "      <th>day_humidity</th>\n",
       "      <th>day_precip</th>\n",
       "      <th>day_uvindex</th>\n",
       "      <th>day_moonphase</th>\n",
       "      <th>hour_temp</th>\n",
       "      <th>hour_humidity</th>\n",
       "      <th>...</th>\n",
       "      <th>zuhr</th>\n",
       "      <th>zurab</th>\n",
       "      <th>zusko</th>\n",
       "      <th>zvanivka</th>\n",
       "      <th>zvezda</th>\n",
       "      <th>zvinchuk</th>\n",
       "      <th>zyabrovka</th>\n",
       "      <th>zybyn</th>\n",
       "      <th>zymohiria</th>\n",
       "      <th>zyuganov</th>\n",
       "    </tr>\n",
       "  </thead>\n",
       "  <tbody>\n",
       "    <tr>\n",
       "      <th>0</th>\n",
       "      <td>1.6</td>\n",
       "      <td>-4.1</td>\n",
       "      <td>-1.6</td>\n",
       "      <td>-5.3</td>\n",
       "      <td>76.800003</td>\n",
       "      <td>0.1</td>\n",
       "      <td>3.0</td>\n",
       "      <td>0.94</td>\n",
       "      <td>-2.2</td>\n",
       "      <td>76.339996</td>\n",
       "      <td>...</td>\n",
       "      <td>0</td>\n",
       "      <td>0</td>\n",
       "      <td>0</td>\n",
       "      <td>0</td>\n",
       "      <td>0</td>\n",
       "      <td>0</td>\n",
       "      <td>0</td>\n",
       "      <td>0</td>\n",
       "      <td>0</td>\n",
       "      <td>0</td>\n",
       "    </tr>\n",
       "    <tr>\n",
       "      <th>1</th>\n",
       "      <td>1.6</td>\n",
       "      <td>-4.1</td>\n",
       "      <td>-1.6</td>\n",
       "      <td>-5.3</td>\n",
       "      <td>76.800003</td>\n",
       "      <td>0.1</td>\n",
       "      <td>3.0</td>\n",
       "      <td>0.94</td>\n",
       "      <td>-2.7</td>\n",
       "      <td>76.839996</td>\n",
       "      <td>...</td>\n",
       "      <td>0</td>\n",
       "      <td>0</td>\n",
       "      <td>0</td>\n",
       "      <td>0</td>\n",
       "      <td>0</td>\n",
       "      <td>0</td>\n",
       "      <td>0</td>\n",
       "      <td>0</td>\n",
       "      <td>0</td>\n",
       "      <td>0</td>\n",
       "    </tr>\n",
       "    <tr>\n",
       "      <th>2</th>\n",
       "      <td>1.6</td>\n",
       "      <td>-4.1</td>\n",
       "      <td>-1.6</td>\n",
       "      <td>-5.3</td>\n",
       "      <td>76.800003</td>\n",
       "      <td>0.1</td>\n",
       "      <td>3.0</td>\n",
       "      <td>0.94</td>\n",
       "      <td>-3.7</td>\n",
       "      <td>80.230003</td>\n",
       "      <td>...</td>\n",
       "      <td>0</td>\n",
       "      <td>0</td>\n",
       "      <td>0</td>\n",
       "      <td>0</td>\n",
       "      <td>0</td>\n",
       "      <td>0</td>\n",
       "      <td>0</td>\n",
       "      <td>0</td>\n",
       "      <td>0</td>\n",
       "      <td>0</td>\n",
       "    </tr>\n",
       "    <tr>\n",
       "      <th>3</th>\n",
       "      <td>1.6</td>\n",
       "      <td>-4.1</td>\n",
       "      <td>-1.6</td>\n",
       "      <td>-5.3</td>\n",
       "      <td>76.800003</td>\n",
       "      <td>0.1</td>\n",
       "      <td>3.0</td>\n",
       "      <td>0.94</td>\n",
       "      <td>-3.7</td>\n",
       "      <td>80.279999</td>\n",
       "      <td>...</td>\n",
       "      <td>0</td>\n",
       "      <td>0</td>\n",
       "      <td>0</td>\n",
       "      <td>0</td>\n",
       "      <td>0</td>\n",
       "      <td>0</td>\n",
       "      <td>0</td>\n",
       "      <td>0</td>\n",
       "      <td>0</td>\n",
       "      <td>0</td>\n",
       "    </tr>\n",
       "    <tr>\n",
       "      <th>4</th>\n",
       "      <td>1.6</td>\n",
       "      <td>-4.1</td>\n",
       "      <td>-1.6</td>\n",
       "      <td>-5.3</td>\n",
       "      <td>76.800003</td>\n",
       "      <td>0.1</td>\n",
       "      <td>3.0</td>\n",
       "      <td>0.94</td>\n",
       "      <td>-3.9</td>\n",
       "      <td>80.870003</td>\n",
       "      <td>...</td>\n",
       "      <td>0</td>\n",
       "      <td>0</td>\n",
       "      <td>0</td>\n",
       "      <td>0</td>\n",
       "      <td>0</td>\n",
       "      <td>0</td>\n",
       "      <td>0</td>\n",
       "      <td>0</td>\n",
       "      <td>0</td>\n",
       "      <td>0</td>\n",
       "    </tr>\n",
       "  </tbody>\n",
       "</table>\n",
       "<p>5 rows × 12407 columns</p>\n",
       "</div>"
      ],
      "text/plain": [
       "   day_tempmax  day_tempmin  day_temp  day_dew  day_humidity  day_precip   \n",
       "0          1.6         -4.1      -1.6     -5.3     76.800003         0.1  \\\n",
       "1          1.6         -4.1      -1.6     -5.3     76.800003         0.1   \n",
       "2          1.6         -4.1      -1.6     -5.3     76.800003         0.1   \n",
       "3          1.6         -4.1      -1.6     -5.3     76.800003         0.1   \n",
       "4          1.6         -4.1      -1.6     -5.3     76.800003         0.1   \n",
       "\n",
       "   day_uvindex  day_moonphase  hour_temp  hour_humidity  ...  zuhr  zurab   \n",
       "0          3.0           0.94       -2.2      76.339996  ...     0      0  \\\n",
       "1          3.0           0.94       -2.7      76.839996  ...     0      0   \n",
       "2          3.0           0.94       -3.7      80.230003  ...     0      0   \n",
       "3          3.0           0.94       -3.7      80.279999  ...     0      0   \n",
       "4          3.0           0.94       -3.9      80.870003  ...     0      0   \n",
       "\n",
       "   zusko  zvanivka  zvezda  zvinchuk  zyabrovka  zybyn  zymohiria  zyuganov  \n",
       "0      0         0       0         0          0      0          0         0  \n",
       "1      0         0       0         0          0      0          0         0  \n",
       "2      0         0       0         0          0      0          0         0  \n",
       "3      0         0       0         0          0      0          0         0  \n",
       "4      0         0       0         0          0      0          0         0  \n",
       "\n",
       "[5 rows x 12407 columns]"
      ]
     },
     "execution_count": 10,
     "metadata": {},
     "output_type": "execute_result"
    }
   ],
   "source": [
    "FULL_DATA.head()"
   ]
  },
  {
   "cell_type": "code",
   "execution_count": 11,
   "id": "abe0647d",
   "metadata": {},
   "outputs": [],
   "source": [
    "from sklearn.model_selection import TimeSeriesSplit, train_test_split\n",
    "\n",
    "#df = pd.read_csv('data/final_data.csv')\n",
    "df = FULL_DATA"
   ]
  },
  {
   "cell_type": "code",
   "execution_count": 12,
   "id": "ba607dc3",
   "metadata": {},
   "outputs": [
    {
     "data": {
      "text/plain": [
       "device(type='cuda')"
      ]
     },
     "execution_count": 12,
     "metadata": {},
     "output_type": "execute_result"
    }
   ],
   "source": [
    "import torch\n",
    "device = torch.device('cuda' if torch.cuda.is_available() else 'cpu')\n",
    "device"
   ]
  },
  {
   "cell_type": "code",
   "execution_count": 13,
   "id": "c48e9efc",
   "metadata": {},
   "outputs": [
    {
     "data": {
      "text/plain": [
       "False"
      ]
     },
     "execution_count": 13,
     "metadata": {},
     "output_type": "execute_result"
    }
   ],
   "source": [
    "(df.dtypes == object).any()"
   ]
  },
  {
   "cell_type": "code",
   "execution_count": 14,
   "id": "37d3759f",
   "metadata": {
    "scrolled": false
   },
   "outputs": [],
   "source": [
    "X = df[df.columns.difference(['alarm_info'])]\n",
    "y = df['alarm_info']\n",
    "\n",
    "X_train, X_test, y_train, y_test = train_test_split(X, y, test_size = 0.2, random_state=1)\n",
    "\n",
    "\n",
    "tscv = TimeSeriesSplit()\n"
   ]
  },
  {
   "cell_type": "code",
   "execution_count": 22,
   "id": "64a9a6b3",
   "metadata": {},
   "outputs": [
    {
     "data": {
      "text/html": [
       "<div>\n",
       "<style scoped>\n",
       "    .dataframe tbody tr th:only-of-type {\n",
       "        vertical-align: middle;\n",
       "    }\n",
       "\n",
       "    .dataframe tbody tr th {\n",
       "        vertical-align: top;\n",
       "    }\n",
       "\n",
       "    .dataframe thead th {\n",
       "        text-align: right;\n",
       "    }\n",
       "</style>\n",
       "<table border=\"1\" class=\"dataframe\">\n",
       "  <thead>\n",
       "    <tr style=\"text-align: right;\">\n",
       "      <th></th>\n",
       "      <th>01</th>\n",
       "      <th>05000600</th>\n",
       "      <th>08000830</th>\n",
       "      <th>10</th>\n",
       "      <th>100</th>\n",
       "      <th>1000</th>\n",
       "      <th>10000</th>\n",
       "      <th>100000</th>\n",
       "      <th>1000000</th>\n",
       "      <th>100000rubl</th>\n",
       "      <th>...</th>\n",
       "      <th>zuhr</th>\n",
       "      <th>zurab</th>\n",
       "      <th>zusko</th>\n",
       "      <th>zvanivka</th>\n",
       "      <th>zvezda</th>\n",
       "      <th>zvinchuk</th>\n",
       "      <th>zyabrovka</th>\n",
       "      <th>zybyn</th>\n",
       "      <th>zymohiria</th>\n",
       "      <th>zyuganov</th>\n",
       "    </tr>\n",
       "  </thead>\n",
       "  <tbody>\n",
       "    <tr>\n",
       "      <th>2</th>\n",
       "      <td>0</td>\n",
       "      <td>0</td>\n",
       "      <td>0</td>\n",
       "      <td>0</td>\n",
       "      <td>0</td>\n",
       "      <td>0</td>\n",
       "      <td>0</td>\n",
       "      <td>0</td>\n",
       "      <td>0</td>\n",
       "      <td>0</td>\n",
       "      <td>...</td>\n",
       "      <td>0</td>\n",
       "      <td>0</td>\n",
       "      <td>0</td>\n",
       "      <td>0</td>\n",
       "      <td>0</td>\n",
       "      <td>0</td>\n",
       "      <td>0</td>\n",
       "      <td>0</td>\n",
       "      <td>0</td>\n",
       "      <td>0</td>\n",
       "    </tr>\n",
       "    <tr>\n",
       "      <th>73</th>\n",
       "      <td>0</td>\n",
       "      <td>0</td>\n",
       "      <td>0</td>\n",
       "      <td>0</td>\n",
       "      <td>0</td>\n",
       "      <td>0</td>\n",
       "      <td>0</td>\n",
       "      <td>0</td>\n",
       "      <td>0</td>\n",
       "      <td>0</td>\n",
       "      <td>...</td>\n",
       "      <td>0</td>\n",
       "      <td>0</td>\n",
       "      <td>0</td>\n",
       "      <td>0</td>\n",
       "      <td>0</td>\n",
       "      <td>0</td>\n",
       "      <td>0</td>\n",
       "      <td>0</td>\n",
       "      <td>0</td>\n",
       "      <td>0</td>\n",
       "    </tr>\n",
       "    <tr>\n",
       "      <th>97</th>\n",
       "      <td>0</td>\n",
       "      <td>0</td>\n",
       "      <td>0</td>\n",
       "      <td>0</td>\n",
       "      <td>0</td>\n",
       "      <td>0</td>\n",
       "      <td>0</td>\n",
       "      <td>0</td>\n",
       "      <td>0</td>\n",
       "      <td>0</td>\n",
       "      <td>...</td>\n",
       "      <td>0</td>\n",
       "      <td>0</td>\n",
       "      <td>0</td>\n",
       "      <td>0</td>\n",
       "      <td>0</td>\n",
       "      <td>0</td>\n",
       "      <td>0</td>\n",
       "      <td>0</td>\n",
       "      <td>0</td>\n",
       "      <td>0</td>\n",
       "    </tr>\n",
       "    <tr>\n",
       "      <th>62</th>\n",
       "      <td>0</td>\n",
       "      <td>0</td>\n",
       "      <td>0</td>\n",
       "      <td>0</td>\n",
       "      <td>0</td>\n",
       "      <td>0</td>\n",
       "      <td>0</td>\n",
       "      <td>0</td>\n",
       "      <td>0</td>\n",
       "      <td>0</td>\n",
       "      <td>...</td>\n",
       "      <td>0</td>\n",
       "      <td>0</td>\n",
       "      <td>0</td>\n",
       "      <td>0</td>\n",
       "      <td>0</td>\n",
       "      <td>0</td>\n",
       "      <td>0</td>\n",
       "      <td>0</td>\n",
       "      <td>0</td>\n",
       "      <td>0</td>\n",
       "    </tr>\n",
       "    <tr>\n",
       "      <th>19</th>\n",
       "      <td>0</td>\n",
       "      <td>0</td>\n",
       "      <td>0</td>\n",
       "      <td>0</td>\n",
       "      <td>0</td>\n",
       "      <td>0</td>\n",
       "      <td>0</td>\n",
       "      <td>0</td>\n",
       "      <td>0</td>\n",
       "      <td>0</td>\n",
       "      <td>...</td>\n",
       "      <td>0</td>\n",
       "      <td>0</td>\n",
       "      <td>0</td>\n",
       "      <td>0</td>\n",
       "      <td>0</td>\n",
       "      <td>0</td>\n",
       "      <td>0</td>\n",
       "      <td>0</td>\n",
       "      <td>0</td>\n",
       "      <td>0</td>\n",
       "    </tr>\n",
       "    <tr>\n",
       "      <th>...</th>\n",
       "      <td>...</td>\n",
       "      <td>...</td>\n",
       "      <td>...</td>\n",
       "      <td>...</td>\n",
       "      <td>...</td>\n",
       "      <td>...</td>\n",
       "      <td>...</td>\n",
       "      <td>...</td>\n",
       "      <td>...</td>\n",
       "      <td>...</td>\n",
       "      <td>...</td>\n",
       "      <td>...</td>\n",
       "      <td>...</td>\n",
       "      <td>...</td>\n",
       "      <td>...</td>\n",
       "      <td>...</td>\n",
       "      <td>...</td>\n",
       "      <td>...</td>\n",
       "      <td>...</td>\n",
       "      <td>...</td>\n",
       "      <td>...</td>\n",
       "    </tr>\n",
       "    <tr>\n",
       "      <th>75</th>\n",
       "      <td>0</td>\n",
       "      <td>0</td>\n",
       "      <td>0</td>\n",
       "      <td>0</td>\n",
       "      <td>0</td>\n",
       "      <td>0</td>\n",
       "      <td>0</td>\n",
       "      <td>0</td>\n",
       "      <td>0</td>\n",
       "      <td>0</td>\n",
       "      <td>...</td>\n",
       "      <td>0</td>\n",
       "      <td>0</td>\n",
       "      <td>0</td>\n",
       "      <td>0</td>\n",
       "      <td>0</td>\n",
       "      <td>0</td>\n",
       "      <td>0</td>\n",
       "      <td>0</td>\n",
       "      <td>0</td>\n",
       "      <td>0</td>\n",
       "    </tr>\n",
       "    <tr>\n",
       "      <th>9</th>\n",
       "      <td>0</td>\n",
       "      <td>0</td>\n",
       "      <td>0</td>\n",
       "      <td>0</td>\n",
       "      <td>0</td>\n",
       "      <td>0</td>\n",
       "      <td>0</td>\n",
       "      <td>0</td>\n",
       "      <td>0</td>\n",
       "      <td>0</td>\n",
       "      <td>...</td>\n",
       "      <td>0</td>\n",
       "      <td>0</td>\n",
       "      <td>0</td>\n",
       "      <td>0</td>\n",
       "      <td>0</td>\n",
       "      <td>0</td>\n",
       "      <td>0</td>\n",
       "      <td>0</td>\n",
       "      <td>0</td>\n",
       "      <td>0</td>\n",
       "    </tr>\n",
       "    <tr>\n",
       "      <th>72</th>\n",
       "      <td>0</td>\n",
       "      <td>0</td>\n",
       "      <td>0</td>\n",
       "      <td>0</td>\n",
       "      <td>0</td>\n",
       "      <td>0</td>\n",
       "      <td>0</td>\n",
       "      <td>0</td>\n",
       "      <td>0</td>\n",
       "      <td>0</td>\n",
       "      <td>...</td>\n",
       "      <td>0</td>\n",
       "      <td>0</td>\n",
       "      <td>0</td>\n",
       "      <td>0</td>\n",
       "      <td>0</td>\n",
       "      <td>0</td>\n",
       "      <td>0</td>\n",
       "      <td>0</td>\n",
       "      <td>0</td>\n",
       "      <td>0</td>\n",
       "    </tr>\n",
       "    <tr>\n",
       "      <th>12</th>\n",
       "      <td>0</td>\n",
       "      <td>0</td>\n",
       "      <td>0</td>\n",
       "      <td>0</td>\n",
       "      <td>0</td>\n",
       "      <td>0</td>\n",
       "      <td>0</td>\n",
       "      <td>0</td>\n",
       "      <td>0</td>\n",
       "      <td>0</td>\n",
       "      <td>...</td>\n",
       "      <td>0</td>\n",
       "      <td>0</td>\n",
       "      <td>0</td>\n",
       "      <td>0</td>\n",
       "      <td>0</td>\n",
       "      <td>0</td>\n",
       "      <td>0</td>\n",
       "      <td>0</td>\n",
       "      <td>0</td>\n",
       "      <td>0</td>\n",
       "    </tr>\n",
       "    <tr>\n",
       "      <th>37</th>\n",
       "      <td>0</td>\n",
       "      <td>0</td>\n",
       "      <td>0</td>\n",
       "      <td>0</td>\n",
       "      <td>0</td>\n",
       "      <td>0</td>\n",
       "      <td>0</td>\n",
       "      <td>0</td>\n",
       "      <td>0</td>\n",
       "      <td>0</td>\n",
       "      <td>...</td>\n",
       "      <td>0</td>\n",
       "      <td>0</td>\n",
       "      <td>0</td>\n",
       "      <td>0</td>\n",
       "      <td>0</td>\n",
       "      <td>0</td>\n",
       "      <td>0</td>\n",
       "      <td>0</td>\n",
       "      <td>0</td>\n",
       "      <td>0</td>\n",
       "    </tr>\n",
       "  </tbody>\n",
       "</table>\n",
       "<p>80 rows × 12406 columns</p>\n",
       "</div>"
      ],
      "text/plain": [
       "    01  05000600  08000830  10  100  1000  10000  100000  1000000  100000rubl   \n",
       "2    0         0         0   0    0     0      0       0        0           0  \\\n",
       "73   0         0         0   0    0     0      0       0        0           0   \n",
       "97   0         0         0   0    0     0      0       0        0           0   \n",
       "62   0         0         0   0    0     0      0       0        0           0   \n",
       "19   0         0         0   0    0     0      0       0        0           0   \n",
       "..  ..       ...       ...  ..  ...   ...    ...     ...      ...         ...   \n",
       "75   0         0         0   0    0     0      0       0        0           0   \n",
       "9    0         0         0   0    0     0      0       0        0           0   \n",
       "72   0         0         0   0    0     0      0       0        0           0   \n",
       "12   0         0         0   0    0     0      0       0        0           0   \n",
       "37   0         0         0   0    0     0      0       0        0           0   \n",
       "\n",
       "    ...  zuhr  zurab  zusko  zvanivka  zvezda  zvinchuk  zyabrovka  zybyn   \n",
       "2   ...     0      0      0         0       0         0          0      0  \\\n",
       "73  ...     0      0      0         0       0         0          0      0   \n",
       "97  ...     0      0      0         0       0         0          0      0   \n",
       "62  ...     0      0      0         0       0         0          0      0   \n",
       "19  ...     0      0      0         0       0         0          0      0   \n",
       "..  ...   ...    ...    ...       ...     ...       ...        ...    ...   \n",
       "75  ...     0      0      0         0       0         0          0      0   \n",
       "9   ...     0      0      0         0       0         0          0      0   \n",
       "72  ...     0      0      0         0       0         0          0      0   \n",
       "12  ...     0      0      0         0       0         0          0      0   \n",
       "37  ...     0      0      0         0       0         0          0      0   \n",
       "\n",
       "    zymohiria  zyuganov  \n",
       "2           0         0  \n",
       "73          0         0  \n",
       "97          0         0  \n",
       "62          0         0  \n",
       "19          0         0  \n",
       "..        ...       ...  \n",
       "75          0         0  \n",
       "9           0         0  \n",
       "72          0         0  \n",
       "12          0         0  \n",
       "37          0         0  \n",
       "\n",
       "[80 rows x 12406 columns]"
      ]
     },
     "execution_count": 22,
     "metadata": {},
     "output_type": "execute_result"
    }
   ],
   "source": [
    "X_train"
   ]
  },
  {
   "cell_type": "code",
   "execution_count": null,
   "id": "8f7e8b7a",
   "metadata": {},
   "outputs": [],
   "source": [
    "del START_DATA\n",
    "del FULL_DATA"
   ]
  },
  {
   "cell_type": "code",
   "execution_count": null,
   "id": "02f2e8c0",
   "metadata": {},
   "outputs": [],
   "source": [
    "from sklearn.metrics import confusion_matrix, classification_report\n",
    "from sklearn.model_selection import TimeSeriesSplit, train_test_split"
   ]
  },
  {
   "cell_type": "markdown",
   "id": "9e3f0ef1",
   "metadata": {},
   "source": [
    "**Logistic Regression without Cross Validation**"
   ]
  },
  {
   "cell_type": "code",
   "execution_count": null,
   "id": "d5bb24f2",
   "metadata": {},
   "outputs": [],
   "source": [
    "from sklearn.linear_model import LogisticRegression\n",
    "logreg = LogisticRegression(max_iter=50000)\n",
    "\n",
    "logreg.fit(X_train, y_train)\n",
    "\n",
    "y_pred = logreg.predict(X_test)\n",
    "\n",
    "print(confusion_matrix(y_test, y_pred))\n",
    "print(classification_report(y_test, y_pred))\n",
    "print(logreg.score(X_test, y_test))"
   ]
  },
  {
   "cell_type": "code",
   "execution_count": null,
   "id": "001a8a91",
   "metadata": {},
   "outputs": [],
   "source": [
    "import joblib\n",
    "\n",
    "joblib.dump(logreg, 'trained_models/LogisticRegression')"
   ]
  },
  {
   "cell_type": "markdown",
   "id": "4120df9e",
   "metadata": {},
   "source": [
    "**Logistic Regression with Cross Validation**"
   ]
  },
  {
   "cell_type": "code",
   "execution_count": null,
   "id": "624a95d1",
   "metadata": {
    "scrolled": false
   },
   "outputs": [],
   "source": [
    "from sklearn.linear_model import LogisticRegressionCV\n",
    "logregCV = LogisticRegressionCV(cv=tscv, max_iter = 100000)\n",
    "\n",
    "logregCV.fit(X_train, y_train)\n",
    "\n",
    "y_pred = logregCV.predict(X_test)\n",
    "\n",
    "print(confusion_matrix(y_test, y_pred))\n",
    "print(classification_report(y_test, y_pred))\n",
    "print(logregCV.score(X_test, y_test))"
   ]
  },
  {
   "cell_type": "markdown",
   "id": "0e036d5a",
   "metadata": {},
   "source": [
    "**Support Vector Machine**"
   ]
  },
  {
   "cell_type": "code",
   "execution_count": null,
   "id": "559aff04",
   "metadata": {},
   "outputs": [],
   "source": [
    "from sklearn import svm\n",
    "\n",
    "#max_iter should probably be changed when training on actual data\n",
    "SVM = svm.SVC(max_iter=50000)\n",
    "\n",
    "SVM.fit(X_train, y_train)\n",
    "\n",
    "y_pred = SVM.predict(X_test)\n",
    "\n",
    "print(confusion_matrix(y_test, y_pred))\n",
    "print(classification_report(y_test, y_pred))\n",
    "print(SVM.score(X_test, y_test))"
   ]
  },
  {
   "cell_type": "markdown",
   "id": "99cac941",
   "metadata": {},
   "source": [
    "**Stochastic Gradient Descent**"
   ]
  },
  {
   "cell_type": "code",
   "execution_count": null,
   "id": "3bc83ca2",
   "metadata": {},
   "outputs": [],
   "source": [
    "from sklearn.linear_model import SGDClassifier\n",
    "\n",
    "#max_iter should probably be changed when training on actual data\n",
    "SGD = SGDClassifier(loss=\"modified_huber\", penalty=\"l2\", max_iter=50000) \n",
    "\n",
    "SGD.fit(X_train, y_train)\n",
    "\n",
    "y_pred = SGD.predict(X_test)\n",
    "\n",
    "print(confusion_matrix(y_test, y_pred))\n",
    "print(classification_report(y_test, y_pred))\n",
    "print(SGD.score(X_test, y_test))"
   ]
  },
  {
   "cell_type": "markdown",
   "id": "80598f32",
   "metadata": {},
   "source": [
    "**Random Forest Classifier with max depth 5**"
   ]
  },
  {
   "cell_type": "code",
   "execution_count": null,
   "id": "8ac19e4b",
   "metadata": {},
   "outputs": [],
   "source": [
    "from sklearn.ensemble import RandomForestClassifier\n",
    "\n",
    "RFC5 = RandomForestClassifier(max_depth = 5, random_state=0)\n",
    "\n",
    "RFC5.fit(X_train, y_train)\n",
    "\n",
    "y_pred = RFC5.predict(X_test)\n",
    "\n",
    "print(confusion_matrix(y_test, y_pred))\n",
    "print(classification_report(y_test, y_pred))\n",
    "print(RFC5.score(X_test, y_test))"
   ]
  },
  {
   "cell_type": "code",
   "execution_count": null,
   "id": "0865cf12",
   "metadata": {},
   "outputs": [],
   "source": [
    "joblib.dump(RFC5, 'trained_models/RandomForestClassifier5')"
   ]
  },
  {
   "cell_type": "markdown",
   "id": "bf88396d",
   "metadata": {},
   "source": [
    "**Random Forest Classifier with max depth 20**"
   ]
  },
  {
   "cell_type": "code",
   "execution_count": null,
   "id": "79ba816c",
   "metadata": {
    "scrolled": false
   },
   "outputs": [],
   "source": [
    "RFC20 = RandomForestClassifier(max_depth = 20, random_state=0)\n",
    "\n",
    "RFC20.fit(X_train, y_train)\n",
    "\n",
    "y_pred = RFC20.predict(X_test)\n",
    "\n",
    "print(confusion_matrix(y_test, y_pred))\n",
    "print(classification_report(y_test, y_pred))\n",
    "print(RFC20.score(X_test, y_test))"
   ]
  },
  {
   "cell_type": "code",
   "execution_count": null,
   "id": "b33f53f3",
   "metadata": {},
   "outputs": [],
   "source": [
    "joblib.dump(RFC20, 'trained_models/RandomForestClassifier20')"
   ]
  },
  {
   "cell_type": "markdown",
   "id": "4943b1a2",
   "metadata": {},
   "source": [
    "**Random Forest Classifier with max depth 50**"
   ]
  },
  {
   "cell_type": "code",
   "execution_count": null,
   "id": "d8b3269c",
   "metadata": {},
   "outputs": [],
   "source": [
    "RFC50 = RandomForestClassifier(max_depth = 50, random_state=0)\n",
    "\n",
    "RFC50.fit(X_train, y_train)\n",
    "\n",
    "y_pred = RFC50.predict(X_test)\n",
    "\n",
    "print(confusion_matrix(y_test, y_pred))\n",
    "print(classification_report(y_test, y_pred))\n",
    "print(RFC50.score(X_test, y_test))"
   ]
  },
  {
   "cell_type": "code",
   "execution_count": null,
   "id": "87dd8274",
   "metadata": {},
   "outputs": [],
   "source": [
    "joblib.dump(RFC50, 'trained_models/RandomForestClassifier50')"
   ]
  },
  {
   "cell_type": "code",
   "execution_count": null,
   "id": "7b87f604",
   "metadata": {},
   "outputs": [],
   "source": [
    "from sklearn.ensemble import RandomForestClassifier\n",
    "\n",
    "RFC100 = RandomForestClassifier(max_depth = 100, random_state=0)\n",
    "\n",
    "RFC100.fit(X_train, y_train)\n",
    "\n",
    "y_pred = RFC100.predict(X_test)\n",
    "\n",
    "print(confusion_matrix(y_test, y_pred))\n",
    "print(classification_report(y_test, y_pred))\n",
    "print(RFC100.score(X_test, y_test))"
   ]
  },
  {
   "cell_type": "code",
   "execution_count": null,
   "id": "c4d67c30",
   "metadata": {},
   "outputs": [],
   "source": [
    "joblib.dump(RFC100, 'trained_models/RandomForestClassifier100')"
   ]
  },
  {
   "cell_type": "code",
   "execution_count": null,
   "id": "2264297a",
   "metadata": {},
   "outputs": [],
   "source": [
    "from sklearn.discriminant_analysis import QuadraticDiscriminantAnalysis\n",
    "\n",
    "QDA = QuadraticDiscriminantAnalysis()\n",
    "\n",
    "QDA.fit(X_train, y_train)\n",
    "\n",
    "y_pred = QDA.predict(X_test)\n",
    "\n",
    "print(confusion_matrix(y_test, y_pred))\n",
    "print(classification_report(y_test, y_pred))\n",
    "print(QDA.score(X_test, y_test))"
   ]
  },
  {
   "cell_type": "markdown",
   "id": "f3e1b1e0",
   "metadata": {},
   "source": [
    "**k-NN with k = 5**"
   ]
  },
  {
   "cell_type": "code",
   "execution_count": null,
   "id": "babaeeaf",
   "metadata": {},
   "outputs": [],
   "source": [
    "from sklearn.neighbors import KNeighborsClassifier \n",
    "\n",
    "knn = KNeighborsClassifier(n_neighbors=5)\n",
    "\n",
    "knn.fit(X_train, y_train)\n",
    "\n",
    "y_pred = knn.predict(X_test)"
   ]
  },
  {
   "cell_type": "code",
   "execution_count": null,
   "id": "00769b3a",
   "metadata": {
    "scrolled": false
   },
   "outputs": [],
   "source": [
    "print(confusion_matrix(y_test, y_pred))\n",
    "print(classification_report(y_test, y_pred))\n",
    "print(knn.score(X_test, y_test))\\"
   ]
  },
  {
   "cell_type": "code",
   "execution_count": null,
   "id": "78d5f4e1",
   "metadata": {},
   "outputs": [],
   "source": [
    "import joblib\n",
    "joblib.dump(knn, 'trained_models/5NearestNeighbours')"
   ]
  },
  {
   "cell_type": "markdown",
   "id": "521dcd7e",
   "metadata": {},
   "source": [
    "**k-NN with k = 20**"
   ]
  },
  {
   "cell_type": "code",
   "execution_count": null,
   "id": "205b1ff8",
   "metadata": {},
   "outputs": [],
   "source": [
    "from sklearn.neighbors import KNeighborsClassifier \n",
    "\n",
    "knn = KNeighborsClassifier(n_neighbors=20)\n",
    "\n",
    "knn.fit(X_train, y_train)\n",
    "\n",
    "y_pred = knn.predict(X_test)\n",
    "\n",
    "print(confusion_matrix(y_test, y_pred))\n",
    "print(classification_report(y_test, y_pred))\n",
    "print(knn.score(X_test, y_test))"
   ]
  },
  {
   "cell_type": "code",
   "execution_count": null,
   "id": "006a2843",
   "metadata": {},
   "outputs": [],
   "source": [
    "joblib.dump(knn, 'trained_models/20NearestNeighbours') "
   ]
  },
  {
   "cell_type": "markdown",
   "id": "c30b79ea",
   "metadata": {},
   "source": [
    "**k-NN with k = 50**"
   ]
  },
  {
   "cell_type": "code",
   "execution_count": null,
   "id": "05d9610a",
   "metadata": {
    "scrolled": false
   },
   "outputs": [],
   "source": [
    "from sklearn.neighbors import KNeighborsClassifier \n",
    "\n",
    "knn = KNeighborsClassifier(n_neighbors=50)\n",
    "\n",
    "knn.fit(X_train, y_train)\n",
    "\n",
    "y_pred = knn.predict(X_test)\n",
    "\n",
    "print(confusion_matrix(y_test, y_pred))\n",
    "print(classification_report(y_test, y_pred))\n",
    "print(knn.score(X_test, y_test))"
   ]
  },
  {
   "cell_type": "code",
   "execution_count": null,
   "id": "e016267c",
   "metadata": {},
   "outputs": [],
   "source": [
    "joblib.dump(knn, 'trained_models/50NearestNeighbours') "
   ]
  }
 ],
 "metadata": {
  "kernelspec": {
   "display_name": "Python 3 (ipykernel)",
   "language": "python",
   "name": "python3"
  },
  "language_info": {
   "codemirror_mode": {
    "name": "ipython",
    "version": 3
   },
   "file_extension": ".py",
   "mimetype": "text/x-python",
   "name": "python",
   "nbconvert_exporter": "python",
   "pygments_lexer": "ipython3",
   "version": "3.10.9"
  }
 },
 "nbformat": 4,
 "nbformat_minor": 5
}
